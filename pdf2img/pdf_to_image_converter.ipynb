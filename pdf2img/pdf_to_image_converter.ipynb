{
 "cells": [
  {
   "cell_type": "code",
   "execution_count": 11,
   "id": "f42c382a",
   "metadata": {},
   "outputs": [
    {
     "name": "stdout",
     "output_type": "stream",
     "text": [
      "Page 1 of sample:\n",
      "You’re on the waitlist!\n",
      "\n",
      "We'll send you another email when it's your turn to try Al Test Kitchen.\n",
      "\n",
      "Want to learn more? While you're waiting, check out these resources about LaMDA\n",
      "and Al Test Kitchen.\n",
      "\n",
      "Thanks for registering!\n",
      "\n",
      "Al Test Kitchen team\n",
      "\n"
     ]
    }
   ],
   "source": [
    "import os\n",
    "import glob\n",
    "from pdf2image import convert_from_path\n",
    "import pytesseract\n",
    "from PIL import Image\n",
    "\n",
    "# Set path to Tesseract OCR executable\n",
    "pytesseract.pytesseract.tesseract_cmd = r'C:\\Program Files\\Tesseract-OCR\\tesseract.exe'\n",
    "\n",
    "# Set input and output directories\n",
    "input_path = 'C:\\\\Users\\\\Asus\\\\PYTHON_C\\\\INFO\\\\insurance_project\\\\notebook\\\\pdf'\n",
    "output_path = 'C:\\\\Users\\\\Asus\\\\PYTHON_C\\\\INFO\\\\insurance_project\\\\notebook\\\\jpg'\n",
    "\n",
    "# Create output directory if it does not exist\n",
    "if not os.path.exists(output_path):\n",
    "    os.makedirs(output_path)\n",
    "\n",
    "# Loop through all PDF files in input directory\n",
    "for input_file in glob.glob(os.path.join(input_path, '*.pdf')):\n",
    "    # Get base filename without extension\n",
    "    base = os.path.basename(input_file)\n",
    "    filename = os.path.splitext(base)[0]\n",
    "\n",
    "    # Convert PDF to JPEG images\n",
    "    pages = convert_from_path(input_file, 200)\n",
    "    for i, page in enumerate(pages):\n",
    "        output_file = os.path.join(output_path, f\"{filename}_page{i+1}.jpg\")\n",
    "        page.save(output_file, 'JPEG')\n",
    "\n",
    "        # Extract text from JPEG image\n",
    "        with Image.open(output_file) as img:\n",
    "            text = pytesseract.image_to_string(img, lang='eng')\n",
    "\n",
    "        # Do something with the extracted text\n",
    "        print(f\"Page {i+1} of {filename}:\")\n",
    "        print(text)\n"
   ]
  },
  {
   "cell_type": "code",
   "execution_count": 1,
   "id": "d084e1bc",
   "metadata": {},
   "outputs": [
    {
     "name": "stdout",
     "output_type": "stream",
     "text": [
      "Writing pdf2img.py\n"
     ]
    }
   ],
   "source": [
    "%%writefile pdf2img.py\n",
    "\n",
    "import io\n",
    "import os\n",
    "import tempfile\n",
    "import streamlit as st\n",
    "from pdf2image import convert_from_bytes\n",
    "from PIL import Image\n",
    "import pytesseract\n",
    "\n",
    "pytesseract.pytesseract.tesseract_cmd = r'/usr/bin/tesseract'\n",
    "\n",
    "def pdf_to_jpg(pdf_bytes):\n",
    "    images = convert_from_bytes(pdf_bytes)\n",
    "\n",
    "    # Convert all PDFs to JPEG images\n",
    "    jpg_images = []\n",
    "    for image in images:\n",
    "        with io.BytesIO() as output:\n",
    "            image.save(output, format='JPEG')\n",
    "            jpg_images.append(output.getvalue())\n",
    "\n",
    "    return jpg_images\n",
    "\n",
    "\n",
    "def main():\n",
    "    st.title(\"PDF to JPEG converter\")\n",
    "\n",
    "    # User upload PDF file\n",
    "    pdf_file = st.file_uploader(\"Upload a PDF file\", type=\"pdf\")\n",
    "\n",
    "    if pdf_file:\n",
    "        # Convert PDF to JPEG images\n",
    "        jpg_images = pdf_to_jpg(pdf_file.read())\n",
    "\n",
    "        # download JPEG images\n",
    "        for i, jpg_image in enumerate(jpg_images):\n",
    "            # Create a temporary file in memory\n",
    "            with tempfile.NamedTemporaryFile(delete=False, suffix='.jpg') as tmp_file:\n",
    "                tmp_file.write(jpg_image)\n",
    "\n",
    "            # download as attachment\n",
    "            st.download_button(\n",
    "                label=f\"Download Page {i+1}\",\n",
    "                data=jpg_image,\n",
    "                file_name=f\"page_{i+1}.jpg\",\n",
    "                mime='image/jpeg'\n",
    "            )\n",
    "\n",
    "if __name__ == \"__main__\":\n",
    "    main()\n"
   ]
  }
 ],
 "metadata": {
  "kernelspec": {
   "display_name": "Python 3 (ipykernel)",
   "language": "python",
   "name": "python3"
  },
  "language_info": {
   "codemirror_mode": {
    "name": "ipython",
    "version": 3
   },
   "file_extension": ".py",
   "mimetype": "text/x-python",
   "name": "python",
   "nbconvert_exporter": "python",
   "pygments_lexer": "ipython3",
   "version": "3.9.13"
  },
  "varInspector": {
   "cols": {
    "lenName": 16,
    "lenType": 16,
    "lenVar": 40
   },
   "kernels_config": {
    "python": {
     "delete_cmd_postfix": "",
     "delete_cmd_prefix": "del ",
     "library": "var_list.py",
     "varRefreshCmd": "print(var_dic_list())"
    },
    "r": {
     "delete_cmd_postfix": ") ",
     "delete_cmd_prefix": "rm(",
     "library": "var_list.r",
     "varRefreshCmd": "cat(var_dic_list()) "
    }
   },
   "types_to_exclude": [
    "module",
    "function",
    "builtin_function_or_method",
    "instance",
    "_Feature"
   ],
   "window_display": false
  }
 },
 "nbformat": 4,
 "nbformat_minor": 5
}
